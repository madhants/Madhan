{
  "nbformat": 4,
  "nbformat_minor": 0,
  "metadata": {
    "colab": {
      "provenance": [],
      "authorship_tag": "ABX9TyMTFmifvzN7WTRpqfkrm7Vf",
      "include_colab_link": true
    },
    "kernelspec": {
      "name": "python3",
      "display_name": "Python 3"
    },
    "language_info": {
      "name": "python"
    }
  },
  "cells": [
    {
      "cell_type": "markdown",
      "metadata": {
        "id": "view-in-github",
        "colab_type": "text"
      },
      "source": [
        "<a href=\"https://colab.research.google.com/github/madhants/Madhan/blob/main/Dictionary%20program.ipynb\" target=\"_parent\"><img src=\"https://colab.research.google.com/assets/colab-badge.svg\" alt=\"Open In Colab\"/></a>"
      ]
    },
    {
      "cell_type": "code",
      "execution_count": 1,
      "metadata": {
        "colab": {
          "base_uri": "https://localhost:8080/"
        },
        "id": "pPHq5INUBFo7",
        "outputId": "70110400-ab03-40ad-b908-4985eb310954"
      },
      "outputs": [
        {
          "output_type": "stream",
          "name": "stdout",
          "text": [
            "{'name': 'Alice', 'age': 20, 'grade': 'A'}\n"
          ]
        }
      ],
      "source": [
        "student = {\n",
        "    \"name\": \"Alice\",\n",
        "    \"age\": 20,\n",
        "    \"grade\": \"A\"\n",
        "}\n",
        "\n",
        "print(student)"
      ]
    },
    {
      "cell_type": "code",
      "source": [
        "person = {\n",
        "    \"name\": \"John\",\n",
        "    \"city\": \"Chennai\"\n",
        "}\n",
        "\n",
        "print(\"Name:\", person[\"name\"])\n",
        "print(\"City:\", person[\"city\"])"
      ],
      "metadata": {
        "colab": {
          "base_uri": "https://localhost:8080/"
        },
        "id": "JUQyHHAxBR40",
        "outputId": "495610e4-2d58-4026-cb72-2ee2d2691adb"
      },
      "execution_count": 2,
      "outputs": [
        {
          "output_type": "stream",
          "name": "stdout",
          "text": [
            "Name: John\n",
            "City: Chennai\n"
          ]
        }
      ]
    },
    {
      "cell_type": "code",
      "source": [
        "info = {}\n",
        "info[\"name\"] = \"Rahul\"\n",
        "info[\"age\"] = 22\n",
        "\n",
        "print(info)"
      ],
      "metadata": {
        "colab": {
          "base_uri": "https://localhost:8080/"
        },
        "id": "zet3PoCXBTm3",
        "outputId": "a765ce0c-1877-43c8-a730-cf6421e28e3b"
      },
      "execution_count": 3,
      "outputs": [
        {
          "output_type": "stream",
          "name": "stdout",
          "text": [
            "{'name': 'Rahul', 'age': 22}\n"
          ]
        }
      ]
    },
    {
      "cell_type": "code",
      "source": [
        "marks = {\n",
        "    \"Math\": 90,\n",
        "    \"Science\": 85,\n",
        "    \"English\": 88\n",
        "}\n",
        "\n",
        "for subject, score in marks.items():\n",
        "    print(subject, \":\", score)"
      ],
      "metadata": {
        "colab": {
          "base_uri": "https://localhost:8080/"
        },
        "id": "pz2iu-dUBW3u",
        "outputId": "defbd072-8ca3-4d4b-cf9f-e7b912b94974"
      },
      "execution_count": 4,
      "outputs": [
        {
          "output_type": "stream",
          "name": "stdout",
          "text": [
            "Math : 90\n",
            "Science : 85\n",
            "English : 88\n"
          ]
        }
      ]
    }
  ]
}