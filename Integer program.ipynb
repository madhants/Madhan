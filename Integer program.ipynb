{
  "nbformat": 4,
  "nbformat_minor": 0,
  "metadata": {
    "colab": {
      "provenance": [],
      "authorship_tag": "ABX9TyOYk6CFSjYLxvTVyp3FTevT",
      "include_colab_link": true
    },
    "kernelspec": {
      "name": "python3",
      "display_name": "Python 3"
    },
    "language_info": {
      "name": "python"
    }
  },
  "cells": [
    {
      "cell_type": "markdown",
      "metadata": {
        "id": "view-in-github",
        "colab_type": "text"
      },
      "source": [
        "<a href=\"https://colab.research.google.com/github/madhants/Madhan/blob/main/Integer%20program.ipynb\" target=\"_parent\"><img src=\"https://colab.research.google.com/assets/colab-badge.svg\" alt=\"Open In Colab\"/></a>"
      ]
    },
    {
      "cell_type": "code",
      "execution_count": null,
      "metadata": {
        "colab": {
          "base_uri": "https://localhost:8080/"
        },
        "id": "GNBg1jQZ5oH-",
        "outputId": "d0ab769c-4b56-4cf2-d9c3-17e771d94ee0"
      },
      "outputs": [
        {
          "output_type": "stream",
          "name": "stdout",
          "text": [
            "Even? False\n"
          ]
        }
      ],
      "source": [
        "class CheckNumber:\n",
        "    def __init__(self, number):\n",
        "        self.number = number\n",
        "\n",
        "    def is_even(self):\n",
        "        return self.number % 2 == 0\n",
        "\n",
        "num = CheckNumber(7)\n",
        "print(\"Even?\" , num.is_even())"
      ]
    },
    {
      "cell_type": "code",
      "source": [
        "def factorial(n):\n",
        "    fact = 1\n",
        "    for i in range(1, n + 1):\n",
        "        fact *= i\n",
        "    return fact\n",
        "\n",
        "print(\"Factorial:\", factorial(5))"
      ],
      "metadata": {
        "colab": {
          "base_uri": "https://localhost:8080/"
        },
        "id": "5JpfdTg35vOf",
        "outputId": "f6a8e07a-6645-423b-9bcb-66abc3afa3bd"
      },
      "execution_count": null,
      "outputs": [
        {
          "output_type": "stream",
          "name": "stdout",
          "text": [
            "Factorial: 120\n"
          ]
        }
      ]
    },
    {
      "cell_type": "code",
      "source": [
        "def is_prime(n):\n",
        "    if n < 2:\n",
        "        return False\n",
        "    for i in range(2, int(n**0.5) + 1):\n",
        "        if n % i == 0:\n",
        "            return False\n",
        "    return True\n",
        "\n",
        "print(\"Is 17 Prime?\", is_prime(17))"
      ],
      "metadata": {
        "colab": {
          "base_uri": "https://localhost:8080/"
        },
        "id": "HUuj8jeU538J",
        "outputId": "f662f0a7-03dc-4742-ae04-af87792d9f02"
      },
      "execution_count": null,
      "outputs": [
        {
          "output_type": "stream",
          "name": "stdout",
          "text": [
            "Is 17 Prime? True\n"
          ]
        }
      ]
    },
    {
      "cell_type": "code",
      "source": [
        "num = 1234\n",
        "digit_sum = sum(int(digit) for digit in str(num))\n",
        "print(\"Sum of digits:\", digit_sum)"
      ],
      "metadata": {
        "colab": {
          "base_uri": "https://localhost:8080/"
        },
        "id": "v0_oCDnV55jm",
        "outputId": "fcf8eefd-de04-4147-bc0c-90c2b5909881"
      },
      "execution_count": null,
      "outputs": [
        {
          "output_type": "stream",
          "name": "stdout",
          "text": [
            "Sum of digits: 10\n"
          ]
        }
      ]
    },
    {
      "cell_type": "code",
      "source": [
        "def is_palindrome(n):\n",
        "    return str(n) == str(n)[::-1]\n",
        "\n",
        "print(\"Is Palindrome:\", is_palindrome(121))"
      ],
      "metadata": {
        "colab": {
          "base_uri": "https://localhost:8080/"
        },
        "id": "FAFDMlwi6FM9",
        "outputId": "8785fbdb-33d8-47ea-d704-6a6d9217bf3b"
      },
      "execution_count": null,
      "outputs": [
        {
          "output_type": "stream",
          "name": "stdout",
          "text": [
            "Is Palindrome: True\n"
          ]
        }
      ]
    },
    {
      "cell_type": "code",
      "source": [
        "num = 4567\n",
        "reverse = int(str(num)[::-1])\n",
        "print(\"Reversed number:\", reverse)"
      ],
      "metadata": {
        "colab": {
          "base_uri": "https://localhost:8080/"
        },
        "id": "EGhml34v6IoV",
        "outputId": "75e6b43e-b2fd-464a-8be1-ed7c517367b2"
      },
      "execution_count": null,
      "outputs": [
        {
          "output_type": "stream",
          "name": "stdout",
          "text": [
            "Reversed number: 7654\n"
          ]
        }
      ]
    },
    {
      "cell_type": "code",
      "source": [
        "def is_armstrong(n):\n",
        "    return n == sum(int(d)**3 for d in str(n))\n",
        "\n",
        "print(\"Is Armstrong?\", is_armstrong(153))"
      ],
      "metadata": {
        "colab": {
          "base_uri": "https://localhost:8080/"
        },
        "id": "utaOaYIN6KRH",
        "outputId": "98e790a6-e8f1-40b5-c9f3-1a2d90a2c85f"
      },
      "execution_count": null,
      "outputs": [
        {
          "output_type": "stream",
          "name": "stdout",
          "text": [
            "Is Armstrong? True\n"
          ]
        }
      ]
    },
    {
      "cell_type": "code",
      "source": [
        "def get_factors(n):\n",
        "    return [i for i in range(1, n+1) if n % i == 0]\n",
        "\n",
        "print(\"Factors of 12:\", get_factors(12))"
      ],
      "metadata": {
        "colab": {
          "base_uri": "https://localhost:8080/"
        },
        "id": "FTi1FhdA6YFY",
        "outputId": "910c3a9c-b3ee-4efe-99b0-4512067b30e6"
      },
      "execution_count": null,
      "outputs": [
        {
          "output_type": "stream",
          "name": "stdout",
          "text": [
            "Factors of 12: [1, 2, 3, 4, 6, 12]\n"
          ]
        }
      ]
    },
    {
      "cell_type": "code",
      "source": [
        "num = 25\n",
        "print(\"Binary:\", bin(num))\n",
        "print(\"Octal:\", oct(num))\n",
        "print(\"Hexadecimal:\", hex(num))"
      ],
      "metadata": {
        "colab": {
          "base_uri": "https://localhost:8080/"
        },
        "id": "MNPPHoJp6cRV",
        "outputId": "78b3a4cf-b773-4a6e-b7c5-3b75f9beddc8"
      },
      "execution_count": null,
      "outputs": [
        {
          "output_type": "stream",
          "name": "stdout",
          "text": [
            "Binary: 0b11001\n",
            "Octal: 0o31\n",
            "Hexadecimal: 0x19\n"
          ]
        }
      ]
    },
    {
      "cell_type": "code",
      "source": [
        "import math\n",
        "\n",
        "a = 15\n",
        "b = 20\n",
        "\n",
        "print(\"GCD:\", math.gcd(a, b))\n",
        "print(\"LCM:\", abs(a*b) // math.gcd(a, b))"
      ],
      "metadata": {
        "colab": {
          "base_uri": "https://localhost:8080/"
        },
        "id": "jjHt_H6U6gPb",
        "outputId": "e3df4baf-d313-4dba-a782-8a38a60f1bd2"
      },
      "execution_count": null,
      "outputs": [
        {
          "output_type": "stream",
          "name": "stdout",
          "text": [
            "GCD: 5\n",
            "LCM: 60\n"
          ]
        }
      ]
    }
  ]
}