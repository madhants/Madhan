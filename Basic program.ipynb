{
  "nbformat": 4,
  "nbformat_minor": 0,
  "metadata": {
    "colab": {
      "provenance": [],
      "authorship_tag": "ABX9TyMe1zN9IWxdv+0ipXq/GZ5w",
      "include_colab_link": true
    },
    "kernelspec": {
      "name": "python3",
      "display_name": "Python 3"
    },
    "language_info": {
      "name": "python"
    }
  },
  "cells": [
    {
      "cell_type": "markdown",
      "metadata": {
        "id": "view-in-github",
        "colab_type": "text"
      },
      "source": [
        "<a href=\"https://colab.research.google.com/github/madhants/Madhan/blob/main/Basic%20program.ipynb\" target=\"_parent\"><img src=\"https://colab.research.google.com/assets/colab-badge.svg\" alt=\"Open In Colab\"/></a>"
      ]
    },
    {
      "cell_type": "code",
      "execution_count": null,
      "metadata": {
        "id": "gwel9eIq_Xb8"
      },
      "outputs": [],
      "source": [
        "# Integer\n",
        "a = 2\n",
        "b = 4\n",
        "c = 5\n",
        "d = 6\n",
        "\n",
        "# String\n",
        "name = \"variable\"\n",
        "\n",
        "# Tuple\n",
        "t = (\"magi\", \"gokul\")\n",
        "\n",
        "# Boolean\n",
        "x = True\n",
        "y = False\n",
        "\n",
        "# Complex Number\n",
        "z = 3 + 5j\n",
        "\n",
        "# List\n",
        "numbers = [2, 3, 5]\n",
        "\n",
        "# Dictionary\n",
        "info = {\"name\": \"Gokul\", \"age\": 21}\n",
        "\n",
        "# Float\n",
        "pi = 3.5"
      ]
    }
  ]
}