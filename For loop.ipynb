{
  "nbformat": 4,
  "nbformat_minor": 0,
  "metadata": {
    "colab": {
      "provenance": [],
      "authorship_tag": "ABX9TyOMm1XHOnwbbbH0sZXqRjaQ",
      "include_colab_link": true
    },
    "kernelspec": {
      "name": "python3",
      "display_name": "Python 3"
    },
    "language_info": {
      "name": "python"
    }
  },
  "cells": [
    {
      "cell_type": "markdown",
      "metadata": {
        "id": "view-in-github",
        "colab_type": "text"
      },
      "source": [
        "<a href=\"https://colab.research.google.com/github/madhants/Madhan/blob/main/For%20loop.ipynb\" target=\"_parent\"><img src=\"https://colab.research.google.com/assets/colab-badge.svg\" alt=\"Open In Colab\"/></a>"
      ]
    },
    {
      "cell_type": "code",
      "execution_count": 1,
      "metadata": {
        "colab": {
          "base_uri": "https://localhost:8080/"
        },
        "id": "6b9X5qMDKpZJ",
        "outputId": "b0f11582-3050-4025-f1c8-f72bb416fc4e"
      },
      "outputs": [
        {
          "output_type": "stream",
          "name": "stdout",
          "text": [
            "Buy: milk\n",
            "Buy: eggs\n",
            "Buy: bread\n",
            "Buy: butter\n"
          ]
        }
      ],
      "source": [
        "shopping_list = [\"milk\", \"eggs\", \"bread\", \"butter\"]\n",
        "for item in shopping_list:\n",
        "    print(\"Buy:\", item)"
      ]
    },
    {
      "cell_type": "code",
      "source": [
        "\n",
        "students = {\n",
        "    \"Alice\": 85,\n",
        "    \"Bob\": 90,\n",
        "    \"Charlie\": 78\n",
        "}\n",
        "\n",
        "for name in students:\n",
        "    print(name, \"scored\", students[name])"
      ],
      "metadata": {
        "colab": {
          "base_uri": "https://localhost:8080/"
        },
        "id": "Z3kwRP_DLW0r",
        "outputId": "78313e2e-0c2a-4fde-c479-8fdb240d2ff1"
      },
      "execution_count": 2,
      "outputs": [
        {
          "output_type": "stream",
          "name": "stdout",
          "text": [
            "Alice scored 85\n",
            "Bob scored 90\n",
            "Charlie scored 78\n"
          ]
        }
      ]
    },
    {
      "cell_type": "code",
      "source": [
        "temperatures = [30, 32, 31, 29, 33]\n",
        "total = 0\n",
        "for temp in temperatures:\n",
        "    total += temp\n",
        "average = total / len(temperatures)\n",
        "print(\"Average temperature:\", average)"
      ],
      "metadata": {
        "colab": {
          "base_uri": "https://localhost:8080/"
        },
        "id": "X9I1ylO1Lf1A",
        "outputId": "c8e3900b-5afb-49e5-b4fd-ccce76b01e9c"
      },
      "execution_count": 3,
      "outputs": [
        {
          "output_type": "stream",
          "name": "stdout",
          "text": [
            "Average temperature: 31.0\n"
          ]
        }
      ]
    },
    {
      "cell_type": "code",
      "source": [
        "books = [\"The Alchemist\", \"Atomic Habits\", \"Rich Dad Poor Dad\"]\n",
        "for book in books:\n",
        "    print(\"You need to read:\", book)"
      ],
      "metadata": {
        "colab": {
          "base_uri": "https://localhost:8080/"
        },
        "id": "8aF1lxlMLm-a",
        "outputId": "e2112736-7049-49df-a601-e080098ca079"
      },
      "execution_count": 4,
      "outputs": [
        {
          "output_type": "stream",
          "name": "stdout",
          "text": [
            "You need to read: The Alchemist\n",
            "You need to read: Atomic Habits\n",
            "You need to read: Rich Dad Poor Dad\n"
          ]
        }
      ]
    },
    {
      "cell_type": "code",
      "source": [
        "fruits = [\"apple\", \"banana\", \"cherry\"]\n",
        "for fruit in fruits:\n",
        "    print(fruit)"
      ],
      "metadata": {
        "colab": {
          "base_uri": "https://localhost:8080/"
        },
        "id": "mbbS81GrLsqe",
        "outputId": "ec8de2bd-e3d6-497f-dc10-ebbfa8a10297"
      },
      "execution_count": 5,
      "outputs": [
        {
          "output_type": "stream",
          "name": "stdout",
          "text": [
            "apple\n",
            "banana\n",
            "cherry\n"
          ]
        }
      ]
    },
    {
      "cell_type": "code",
      "source": [
        "total = 0\n",
        "for i in range(1, 6):\n",
        "    total += i\n",
        "print(\"Sum:\", total)"
      ],
      "metadata": {
        "colab": {
          "base_uri": "https://localhost:8080/"
        },
        "id": "yMZ7moKbLvZ7",
        "outputId": "699e48b8-8bf4-4575-a5af-b817b4dca403"
      },
      "execution_count": 6,
      "outputs": [
        {
          "output_type": "stream",
          "name": "stdout",
          "text": [
            "Sum: 15\n"
          ]
        }
      ]
    },
    {
      "cell_type": "code",
      "source": [
        "word = \"hello\"\n",
        "for char in word:\n",
        "    print(char)"
      ],
      "metadata": {
        "colab": {
          "base_uri": "https://localhost:8080/"
        },
        "id": "cTVcsexnLzkn",
        "outputId": "dbcbe9f5-f594-4271-ea11-3672efb9e42c"
      },
      "execution_count": 7,
      "outputs": [
        {
          "output_type": "stream",
          "name": "stdout",
          "text": [
            "h\n",
            "e\n",
            "l\n",
            "l\n",
            "o\n"
          ]
        }
      ]
    }
  ]
}