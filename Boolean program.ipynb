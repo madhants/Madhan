{
  "nbformat": 4,
  "nbformat_minor": 0,
  "metadata": {
    "colab": {
      "provenance": [],
      "authorship_tag": "ABX9TyMqe4rjGsLiB4j6SCUudWf7",
      "include_colab_link": true
    },
    "kernelspec": {
      "name": "python3",
      "display_name": "Python 3"
    },
    "language_info": {
      "name": "python"
    }
  },
  "cells": [
    {
      "cell_type": "markdown",
      "metadata": {
        "id": "view-in-github",
        "colab_type": "text"
      },
      "source": [
        "<a href=\"https://colab.research.google.com/github/madhants/Madhan/blob/main/Boolean%20program.ipynb\" target=\"_parent\"><img src=\"https://colab.research.google.com/assets/colab-badge.svg\" alt=\"Open In Colab\"/></a>"
      ]
    },
    {
      "cell_type": "code",
      "execution_count": null,
      "metadata": {
        "colab": {
          "base_uri": "https://localhost:8080/"
        },
        "id": "P6_ZPTKB31Y0",
        "outputId": "f808b527-f52a-40f0-deb7-9a2325157db8"
      },
      "outputs": [
        {
          "output_type": "stream",
          "name": "stdout",
          "text": [
            "Value is True\n"
          ]
        }
      ],
      "source": [
        "\n",
        "class BoolExample:\n",
        "    def __init__(self, value):\n",
        "        self.value = bool(value)\n",
        "\n",
        "    def check(self):\n",
        "        if self.value:\n",
        "            return \"Value is True\"\n",
        "        else:\n",
        "            return \"Value is False\"\n",
        "\n",
        "obj = BoolExample(5)\n",
        "print(obj.check())"
      ]
    },
    {
      "cell_type": "code",
      "source": [
        "a = True\n",
        "b = False\n",
        "\n",
        "print(\"a or b:\", a or b)\n",
        "print(\"a and b:\", a and b)\n",
        "print(\"not a:\", not a)"
      ],
      "metadata": {
        "colab": {
          "base_uri": "https://localhost:8080/"
        },
        "id": "orbaWP_V4C27",
        "outputId": "3177b2e1-c7a2-43ac-93e7-63c641908560"
      },
      "execution_count": null,
      "outputs": [
        {
          "output_type": "stream",
          "name": "stdout",
          "text": [
            "a or b: True\n",
            "a and b: False\n",
            "not a: False\n"
          ]
        }
      ]
    },
    {
      "cell_type": "code",
      "source": [
        "\n",
        "class VotingEligibility:\n",
        "    def __init__(self, age):\n",
        "        self.age = age\n",
        "\n",
        "    def is_eligible(self):\n",
        "        return self.age >= 18\n",
        "\n",
        "voter = VotingEligibility(20)\n",
        "print(\"Eligible to vote:\", voter.is_eligible())"
      ],
      "metadata": {
        "colab": {
          "base_uri": "https://localhost:8080/"
        },
        "id": "WMDaJMQe4Gr4",
        "outputId": "a4b46452-4cb0-4a33-ee49-7e82c266bee3"
      },
      "execution_count": null,
      "outputs": [
        {
          "output_type": "stream",
          "name": "stdout",
          "text": [
            "Eligible to vote: True\n"
          ]
        }
      ]
    },
    {
      "cell_type": "code",
      "source": [
        "class IntegerOps:\n",
        "    def __init__(self, num):\n",
        "        self.num = num\n",
        "\n",
        "    def square(self):\n",
        "        return self.num ** 2\n",
        "\n",
        "    def is_even(self):\n",
        "        return self.num % 2 == 0\n",
        "\n",
        "obj = IntegerOps(4)\n",
        "print(\"Square:\", obj.square())\n",
        "print(\"Is Even:\", obj.is_even())"
      ],
      "metadata": {
        "colab": {
          "base_uri": "https://localhost:8080/"
        },
        "id": "5DGhw3z04J44",
        "outputId": "7add963f-f0e7-4bcd-9e71-2e4b9d84e95a"
      },
      "execution_count": null,
      "outputs": [
        {
          "output_type": "stream",
          "name": "stdout",
          "text": [
            "Square: 16\n",
            "Is Even: True\n"
          ]
        }
      ]
    },
    {
      "cell_type": "code",
      "source": [
        "class VotingEligibility:\n",
        "    def __init__(self, age):\n",
        "        self.age = age\n",
        "\n",
        "    def is_eligible(self):\n",
        "        return self.age >= 18\n",
        "\n",
        "voter = VotingEligibility(20)\n",
        "print(\"Eligible to vote:\", voter.is_eligible())"
      ],
      "metadata": {
        "colab": {
          "base_uri": "https://localhost:8080/"
        },
        "id": "vNB8LYoC4WT5",
        "outputId": "d20f588b-46ea-4d55-e426-9cf81ff10624"
      },
      "execution_count": null,
      "outputs": [
        {
          "output_type": "stream",
          "name": "stdout",
          "text": [
            "Eligible to vote: True\n"
          ]
        }
      ]
    }
  ]
}